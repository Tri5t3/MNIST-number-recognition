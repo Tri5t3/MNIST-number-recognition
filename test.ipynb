{
 "cells": [
  {
   "cell_type": "code",
   "execution_count": 1,
   "metadata": {},
   "outputs": [],
   "source": [
    "from intro_pytorch import *\n",
    "train_loader = get_data_loader()"
   ]
  },
  {
   "cell_type": "code",
   "execution_count": 2,
   "metadata": {},
   "outputs": [
    {
     "name": "stdout",
     "output_type": "stream",
     "text": [
      "<class 'torch.utils.data.dataloader.DataLoader'>\n",
      "Dataset MNIST\n",
      "    Number of datapoints: 60000\n",
      "    Root location: ./data\n",
      "    Split: Train\n",
      "    StandardTransform\n",
      "Transform: Compose(\n",
      "               ToTensor()\n",
      "               Normalize(mean=(0.1307,), std=(0.3081,))\n",
      "           )\n"
     ]
    }
   ],
   "source": [
    "print(type(train_loader))\n",
    "print(train_loader.dataset)"
   ]
  },
  {
   "cell_type": "code",
   "execution_count": 3,
   "metadata": {},
   "outputs": [],
   "source": [
    "test_loader = get_data_loader(False)"
   ]
  },
  {
   "cell_type": "code",
   "execution_count": 4,
   "metadata": {},
   "outputs": [
    {
     "name": "stdout",
     "output_type": "stream",
     "text": [
      "Sequential(\n",
      "  (0): Flatten(start_dim=1, end_dim=-1)\n",
      "  (1): Linear(in_features=784, out_features=128, bias=True)\n",
      "  (2): ReLU()\n",
      "  (3): Linear(in_features=128, out_features=64, bias=True)\n",
      "  (4): ReLU()\n",
      "  (5): Linear(in_features=64, out_features=10, bias=True)\n",
      ")\n"
     ]
    }
   ],
   "source": [
    "model = build_model()\n",
    "print(model)"
   ]
  },
  {
   "cell_type": "code",
   "execution_count": 5,
   "metadata": {},
   "outputs": [
    {
     "name": "stdout",
     "output_type": "stream",
     "text": [
      "Train Epoch: 0 \t Accuracy: 48495/60000(80.83%) Loss: 0.740\n",
      "Train Epoch: 1 \t Accuracy: 54890/60000(91.48%) Loss: 0.292\n",
      "Train Epoch: 2 \t Accuracy: 55866/60000(93.11%) Loss: 0.238\n",
      "Train Epoch: 3 \t Accuracy: 56562/60000(94.27%) Loss: 0.199\n",
      "Train Epoch: 4 \t Accuracy: 57058/60000(95.10%) Loss: 0.171\n"
     ]
    }
   ],
   "source": [
    "criterion = nn.CrossEntropyLoss()\n",
    "train_model(model, train_loader, criterion, T = 5)"
   ]
  },
  {
   "cell_type": "code",
   "execution_count": 6,
   "metadata": {},
   "outputs": [
    {
     "name": "stdout",
     "output_type": "stream",
     "text": [
      "Accuracy: 95.21%\n",
      "Average loss: 0.0032\n",
      "Accuracy: 95.21%\n"
     ]
    }
   ],
   "source": [
    "evaluate_model(model, test_loader, criterion, show_loss = False)\n",
    "evaluate_model(model, test_loader, criterion, show_loss = True)"
   ]
  },
  {
   "cell_type": "code",
   "execution_count": 13,
   "metadata": {},
   "outputs": [
    {
     "name": "stdout",
     "output_type": "stream",
     "text": [
      "four: 99.66%\n",
      "nine: 0.32%\n",
      "eight: 0.02%\n"
     ]
    },
    {
     "data": {
      "text/plain": [
       "<matplotlib.image.AxesImage at 0x17c7fe671c0>"
      ]
     },
     "execution_count": 13,
     "metadata": {},
     "output_type": "execute_result"
    },
    {
     "data": {
      "image/png": "[encoded data removed]",
      "text/plain": [
       "<Figure size 432x288 with 1 Axes>"
      ]
     },
     "metadata": {
      "needs_background": "light"
     },
     "output_type": "display_data"
    }
   ],
   "source": [
    "ind = 48\n",
    "import matplotlib.pyplot as plt\n",
    "import matplotlib.image as mpimg\n",
    "test_images, _ = iter(test_loader).next()\n",
    "predict_label(model, test_images, ind)\n",
    "plt.imshow(test_images[ind].reshape((28,28)), cmap=\"gray\")"
   ]
  },
  {
   "cell_type": "code",
   "execution_count": 8,
   "metadata": {},
   "outputs": [],
   "source": [
    "# print(outputs)\n",
    "# sum = 0\n",
    "# for ele in outputs[0]:\n",
    "#     sum += ele\n",
    "# print(sum)"
   ]
  },
  {
   "cell_type": "code",
   "execution_count": 9,
   "metadata": {},
   "outputs": [],
   "source": [
    "# print(prob[0])\n",
    "# sump = 0\n",
    "# for elem in prob[0]:\n",
    "#     sump += elem\n",
    "# print(sump)"
   ]
  },
  {
   "cell_type": "code",
   "execution_count": 10,
   "metadata": {},
   "outputs": [],
   "source": [
    "# class_names = ['zero', 'one', 'two', 'three',\n",
    "#                    'four', 'five', 'six', 'seven', 'eight', 'nine']\n",
    "# print(torch.max(prob).item())\n",
    "# resu = torch.argmax(prob)\n",
    "# print(resu.item())\n",
    "# print(class_names[resu])\n",
    "# prob[0][8] = 0\n",
    "# print(torch.max(prob).item())\n",
    "# resu = torch.argmax(prob)\n",
    "# print(resu.item())\n",
    "# print(class_names[resu])\n"
   ]
  }
 ],
 "metadata": {
  "interpreter": {
   "hash": "d8238f317c75f2772202101219d1bc561224774ccdf5daeb1c652a83710b959e"
  },
  "kernelspec": {
   "display_name": "Python 3.9.7 64-bit",
   "name": "python3"
  },
  "language_info": {
   "codemirror_mode": {
    "name": "ipython",
    "version": 3
   },
   "file_extension": ".py",
   "mimetype": "text/x-python",
   "name": "python",
   "nbconvert_exporter": "python",
   "pygments_lexer": "ipython3",
   "version": "3.9.7"
  },
  "orig_nbformat": 4
 },
 "nbformat": 4,
 "nbformat_minor": 2
}
